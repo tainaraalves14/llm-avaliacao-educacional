{
 "cells": [
  {
   "cell_type": "code",
   "execution_count": null,
   "id": "300141e3",
   "metadata": {
    "vscode": {
     "languageId": "plaintext"
    }
   },
   "outputs": [],
   "source": [
    "# Prompt Engineering com LLMs\n",
    "\n",
    "import openai\n",
    "\n",
    "# Defina sua chave de API do OpenAI\n",
    "openai.api_key = 'sua-chave-da-api-aqui'\n",
    "\n",
    "# Função para gerar respostas do modelo GPT-3\n",
    "def gerar_resposta(prompt):\n",
    "    response = openai.Completion.create(\n",
    "        model=\"text-davinci-003\",  # Modelo GPT-3\n",
    "        prompt=prompt,\n",
    "        max_tokens=100\n",
    "    )\n",
    "    return response.choices[0].text.strip()\n",
    "\n",
    "# Exemplos de prompts e resultados\n",
    "prompt_1 = \"Qual é a capital da França?\"\n",
    "prompt_2 = \"Explique de forma simples o que é inteligência artificial.\"\n",
    "\n",
    "# Gerando respostas\n",
    "resposta_1 = gerar_resposta(prompt_1)\n",
    "resposta_2 = gerar_resposta(prompt_2)\n",
    "\n",
    "print(\"Resposta 1: \", resposta_1)\n",
    "print(\"Resposta 2: \", resposta_2)\n"
   ]
  }
 ],
 "metadata": {
  "language_info": {
   "name": "python"
  }
 },
 "nbformat": 4,
 "nbformat_minor": 5
}
